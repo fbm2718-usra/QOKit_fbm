{
 "cells": [
  {
   "cell_type": "code",
   "id": "initial_id",
   "metadata": {
    "collapsed": true,
    "ExecuteTime": {
     "end_time": "2024-10-31T07:37:10.077932Z",
     "start_time": "2024-10-31T07:37:10.071448Z"
    }
   },
   "source": [
    "%load_ext autoreload\n",
    "%autoreload 2"
   ],
   "outputs": [
    {
     "name": "stdout",
     "output_type": "stream",
     "text": [
      "The autoreload extension is already loaded. To reload it, use:\n",
      "  %reload_ext autoreload\n"
     ]
    }
   ],
   "execution_count": 4
  },
  {
   "metadata": {
    "ExecuteTime": {
     "end_time": "2024-10-31T07:46:59.022466Z",
     "start_time": "2024-10-31T07:46:59.003435Z"
    }
   },
   "cell_type": "code",
   "source": [
    "import numpy as np\n",
    "import qokit.fur as qk_fur"
   ],
   "id": "f4e3f828152031a3",
   "outputs": [],
   "execution_count": 33
  },
  {
   "metadata": {
    "ExecuteTime": {
     "end_time": "2024-10-31T07:39:22.494776Z",
     "start_time": "2024-10-31T07:39:22.479873Z"
    }
   },
   "cell_type": "code",
   "source": [
    "number_of_qubits = 5\n",
    "hamiltonian_seed = 42\n",
    "numpy_rng = np.random.default_rng()\n",
    "#possibly modify\n",
    "qubit_pairs = [(i,j) for i in range(number_of_qubits) for j in range(i+1, number_of_qubits)]\n",
    "random_coefficients = numpy_rng.uniform(-1, \n",
    "                                        1, \n",
    "                                        size=len(qubit_pairs)).tolist()\n",
    "#this is qokit's format\n",
    "random_hamiltonian = [(coeff, pair) for pair, coeff in zip(qubit_pairs, random_coefficients)]\n",
    "random_hamiltonian"
   ],
   "id": "70472e978d1494f0",
   "outputs": [
    {
     "data": {
      "text/plain": [
       "[(-0.3505333786731821, (0, 1)),\n",
       " (-0.7021298575369499, (0, 2)),\n",
       " (-0.7504512579383398, (0, 3)),\n",
       " (0.2755093043658916, (0, 4)),\n",
       " (-0.7846357104764359, (1, 2)),\n",
       " (-0.7140149866746479, (1, 3)),\n",
       " (0.012179513765296246, (1, 4)),\n",
       " (0.3067512235551355, (2, 3)),\n",
       " (-0.8345527103728894, (2, 4)),\n",
       " (0.3064179720905926, (3, 4))]"
      ]
     },
     "execution_count": 14,
     "metadata": {},
     "output_type": "execute_result"
    }
   ],
   "execution_count": 14
  },
  {
   "metadata": {
    "ExecuteTime": {
     "end_time": "2024-10-31T07:42:38.227990Z",
     "start_time": "2024-10-31T07:42:38.213379Z"
    }
   },
   "cell_type": "code",
   "source": [
    "\n",
    "qokit_backend = 'auto'\n",
    "simclass = qk_fur.choose_simulator(name=qokit_backend)\n",
    "\n",
    "          \n",
    "simulator_qokit = simclass(number_of_qubits,\n",
    "                       terms=random_hamiltonian)\n",
    "#this computes all eigenvalues\n",
    "spectrum = simulator_qokit.get_cost_diagonal()"
   ],
   "id": "bcc9d36c24a347ac",
   "outputs": [],
   "execution_count": 16
  },
  {
   "metadata": {
    "ExecuteTime": {
     "end_time": "2024-10-31T07:42:41.207974Z",
     "start_time": "2024-10-31T07:42:41.195788Z"
    }
   },
   "cell_type": "code",
   "source": "spectrum",
   "id": "fe4c42c2e6055b52",
   "outputs": [
    {
     "data": {
      "text/plain": [
       "array([-3.23545989, -0.18024951,  0.43854924,  2.0916261 ,  0.79367422,\n",
       "        1.04036517,  1.3291405 ,  0.17369794, -1.53286579, -1.47946044,\n",
       "       -0.71491661, -2.06364478,  3.72327321,  0.96815913,  1.40267955,\n",
       "       -2.75456805, -2.75456805,  1.40267955,  0.96815913,  3.72327321,\n",
       "       -2.06364478, -0.71491661, -1.47946044, -1.53286579,  0.17369794,\n",
       "        1.3291405 ,  1.04036517,  0.79367422,  2.0916261 ,  0.43854924,\n",
       "       -0.18024951, -3.23545989])"
      ]
     },
     "execution_count": 17,
     "metadata": {},
     "output_type": "execute_result"
    }
   ],
   "execution_count": 17
  },
  {
   "metadata": {
    "ExecuteTime": {
     "end_time": "2024-10-31T07:46:33.950199Z",
     "start_time": "2024-10-31T07:46:33.933287Z"
    }
   },
   "cell_type": "code",
   "source": [
    "gammas_j = np.array([0.2*np.pi, 0.3*np.pi])\n",
    "betas_j = np.array([0.1*np.pi, 0.2*np.pi])\n",
    "#multiply by 2 to get exp(-1j*gamma*H) operator\n",
    "results_qokit = simulator_qokit.simulate_qaoa(gammas_j * 2, betas_j)\n",
    "#get ket\n",
    "statevector_ideal = simulator_qokit.get_statevector(results_qokit).reshape(-1, 1)\n",
    "#get exp value\n",
    "energy_expected_value = simulator_qokit.get_expectation(results_qokit)"
   ],
   "id": "159c14091e32c1f2",
   "outputs": [
    {
     "data": {
      "text/plain": [
       "np.float64(0.5103305874247175)"
      ]
     },
     "execution_count": 32,
     "metadata": {},
     "output_type": "execute_result"
    }
   ],
   "execution_count": 32
  }
 ],
 "metadata": {
  "kernelspec": {
   "display_name": "Python 3",
   "language": "python",
   "name": "python3"
  },
  "language_info": {
   "codemirror_mode": {
    "name": "ipython",
    "version": 2
   },
   "file_extension": ".py",
   "mimetype": "text/x-python",
   "name": "python",
   "nbconvert_exporter": "python",
   "pygments_lexer": "ipython2",
   "version": "2.7.6"
  }
 },
 "nbformat": 4,
 "nbformat_minor": 5
}
