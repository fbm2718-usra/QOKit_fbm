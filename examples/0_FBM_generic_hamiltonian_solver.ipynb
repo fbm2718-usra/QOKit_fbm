{
 "cells": [
  {
   "cell_type": "code",
   "id": "initial_id",
   "metadata": {
    "collapsed": true,
    "ExecuteTime": {
     "end_time": "2024-10-31T07:54:07.541227Z",
     "start_time": "2024-10-31T07:54:07.528347Z"
    }
   },
   "source": [
    "%load_ext autoreload\n",
    "%autoreload 2"
   ],
   "outputs": [],
   "execution_count": 1
  },
  {
   "metadata": {
    "ExecuteTime": {
     "end_time": "2024-10-31T07:54:07.785787Z",
     "start_time": "2024-10-31T07:54:07.583581Z"
    }
   },
   "cell_type": "code",
   "source": [
    "import numpy as np\n",
    "import qokit.fur as qk_fur"
   ],
   "id": "f4e3f828152031a3",
   "outputs": [],
   "execution_count": 2
  },
  {
   "metadata": {
    "ExecuteTime": {
     "end_time": "2024-10-31T07:54:08.129748Z",
     "start_time": "2024-10-31T07:54:07.840473Z"
    }
   },
   "cell_type": "code",
   "source": [
    "number_of_qubits = 5\n",
    "hamiltonian_seed = 42\n",
    "numpy_rng = np.random.default_rng()\n",
    "#possibly modify\n",
    "qubit_pairs = [(i,j) for i in range(number_of_qubits) for j in range(i+1, number_of_qubits)]\n",
    "random_coefficients = numpy_rng.uniform(-1, \n",
    "                                        1, \n",
    "                                        size=len(qubit_pairs)).tolist()\n",
    "#this is qokit's format\n",
    "random_hamiltonian = [(coeff, pair) for pair, coeff in zip(qubit_pairs, random_coefficients)]\n",
    "random_hamiltonian"
   ],
   "id": "70472e978d1494f0",
   "outputs": [
    {
     "data": {
      "text/plain": [
       "[(-0.6208471398603623, (0, 1)),\n",
       " (-0.601169181362821, (0, 2)),\n",
       " (-0.13964706347161338, (0, 3)),\n",
       " (-0.015864413893217355, (0, 4)),\n",
       " (-0.04945743310966799, (1, 2)),\n",
       " (-0.45782329069329064, (1, 3)),\n",
       " (-0.8694682317053581, (1, 4)),\n",
       " (0.604961470768749, (2, 3)),\n",
       " (0.024604107332821812, (2, 4)),\n",
       " (-0.9445169556931237, (3, 4))]"
      ]
     },
     "execution_count": 3,
     "metadata": {},
     "output_type": "execute_result"
    }
   ],
   "execution_count": 3
  },
  {
   "metadata": {
    "ExecuteTime": {
     "end_time": "2024-10-31T07:54:08.369187Z",
     "start_time": "2024-10-31T07:54:08.242381Z"
    }
   },
   "cell_type": "code",
   "source": [
    "\n",
    "qokit_backend = 'auto'\n",
    "simclass = qk_fur.choose_simulator(name=qokit_backend)\n",
    "simulator_qokit = simclass(number_of_qubits,\n",
    "                       terms=random_hamiltonian)\n",
    "#this computes all eigenvalues (and is used to speed up the computation)\n",
    "spectrum = simulator_qokit.get_cost_diagonal()"
   ],
   "id": "bcc9d36c24a347ac",
   "outputs": [],
   "execution_count": 4
  },
  {
   "metadata": {
    "ExecuteTime": {
     "end_time": "2024-10-31T07:54:08.389124Z",
     "start_time": "2024-10-31T07:54:08.380977Z"
    }
   },
   "cell_type": "code",
   "source": "spectrum",
   "id": "fe4c42c2e6055b52",
   "outputs": [
    {
     "data": {
      "text/plain": [
       "array([-3.06922813, -0.31417253,  0.92596406,  1.1976311 , -3.02710606,\n",
       "       -2.67672719,  0.7702564 , -1.36275329, -1.19517645,  1.00129089,\n",
       "        0.96872257,  0.68180136,  1.2667915 ,  1.05858212,  3.2328608 ,\n",
       "        0.54126286,  0.54126286,  3.2328608 ,  1.05858212,  1.2667915 ,\n",
       "        0.68180136,  0.96872257,  1.00129089, -1.19517645, -1.36275329,\n",
       "        0.7702564 , -2.67672719, -3.02710606,  1.1976311 ,  0.92596406,\n",
       "       -0.31417253, -3.06922813])"
      ]
     },
     "execution_count": 5,
     "metadata": {},
     "output_type": "execute_result"
    }
   ],
   "execution_count": 5
  },
  {
   "metadata": {
    "ExecuteTime": {
     "end_time": "2024-10-31T07:54:15.647437Z",
     "start_time": "2024-10-31T07:54:15.637825Z"
    }
   },
   "cell_type": "code",
   "source": [
    "#phase separator angle\n",
    "gammas_j = np.array([0.2*np.pi, 0.3*np.pi])\n",
    "#mixer angle\n",
    "betas_j = np.array([0.1*np.pi, 0.2*np.pi])\n",
    "#multiply by 2 to get exp(-1j*gamma*H) operator [this is not necessary, just convention]\n",
    "results_qokit = simulator_qokit.simulate_qaoa(gammas_j * 2, betas_j)\n",
    "#get ket\n",
    "statevector_ideal = simulator_qokit.get_statevector(results_qokit).reshape(-1, 1)\n",
    "#get exp value\n",
    "energy_expected_value = simulator_qokit.get_expectation(results_qokit)\n",
    "energy_expected_value"
   ],
   "id": "159c14091e32c1f2",
   "outputs": [
    {
     "data": {
      "text/plain": [
       "np.float64(0.8884394824297738)"
      ]
     },
     "execution_count": 6,
     "metadata": {},
     "output_type": "execute_result"
    }
   ],
   "execution_count": 6
  },
  {
   "metadata": {},
   "cell_type": "code",
   "outputs": [],
   "execution_count": null,
   "source": "",
   "id": "9833504fe1643105"
  }
 ],
 "metadata": {
  "kernelspec": {
   "display_name": "Python 3",
   "language": "python",
   "name": "python3"
  },
  "language_info": {
   "codemirror_mode": {
    "name": "ipython",
    "version": 2
   },
   "file_extension": ".py",
   "mimetype": "text/x-python",
   "name": "python",
   "nbconvert_exporter": "python",
   "pygments_lexer": "ipython2",
   "version": "2.7.6"
  }
 },
 "nbformat": 4,
 "nbformat_minor": 5
}
